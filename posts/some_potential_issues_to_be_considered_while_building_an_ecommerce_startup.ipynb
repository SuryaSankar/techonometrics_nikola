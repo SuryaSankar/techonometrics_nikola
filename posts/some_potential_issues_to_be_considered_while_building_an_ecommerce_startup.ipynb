{
 "cells": [
  {
   "cell_type": "markdown",
   "metadata": {},
   "source": [
    "I had 7 Amazon shares with me 6 years ago. The share was trading at around 250 USD when I sold my first 2 shares. I had quit my job with startup dreams and had to sell these shares to pay my bills. I had assumed that I would not need to sell the remaining 5. But within a year I had sold all of them. I guess I had sold the last for around 300 USD. Shortly after I sold them all, AMZN began its steep climb. Currently it is worth 1600 USD per share. So, yeah my heart burns whenever I see the AMZN ticker.s"
   ]
  },
  {
   "cell_type": "markdown",
   "metadata": {},
   "source": [
    "Startups die often. Painfully as well. A part of it is due to the inherent risks associated with starting any business. But a lot of it is also due to mis-matched expectations. Startups, particularly the ones founded by young founders, tend to have a bias towards technology. A lot of thought goes into designing the software interface. But comparitively less thought goes towards the economic rationale for choosing specific business models. Again, some of this is intentional. "
   ]
  },
  {
   "cell_type": "markdown",
   "metadata": {},
   "source": [
    "AMZN is trading at 1600 USD now. It had briefly touched 2000 USD 4 months ago. The current fall is attributed to multiple reasons. Jefff B's divorce is one factor. A bigger factor is the hostility in Indian market - with the government enforcing regulations to stop steep discounting. But then, at this point of time in history these are all bound to be perceived as temporary aberrations. "
   ]
  },
  {
   "cell_type": "markdown",
   "metadata": {},
   "source": [
    "One thing is clear. Amazon's share premium is largely due to its AWS business. The retail business often acts as a dampener. Back in 2014, AMZN was still trading just at 300 USD because it was not yet apparent how much of a cash cow AWS really was. Amazon has recently released its 2018 earnings report.s"
   ]
  }
 ],
 "metadata": {
  "kernelspec": {
   "display_name": "Python 3",
   "language": "python",
   "name": "python3"
  },
  "language_info": {
   "codemirror_mode": {
    "name": "ipython",
    "version": 3
   },
   "file_extension": ".py",
   "mimetype": "text/x-python",
   "name": "python",
   "nbconvert_exporter": "python",
   "pygments_lexer": "ipython3",
   "version": "3.6.7"
  }
 },
 "nbformat": 4,
 "nbformat_minor": 2
}
